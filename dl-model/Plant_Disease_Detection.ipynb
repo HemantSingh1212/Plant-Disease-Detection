{
 "cells": [
  {
   "cell_type": "markdown",
   "id": "f2b69d61",
   "metadata": {},
   "source": [
    "# Github repo url\n",
    "\n",
    "[https://github.com/SkyDocs/Plant-Disease-Detection](https://github.com/SkyDocs/Plant-Disease-Detection)"
   ]
  },
  {
   "cell_type": "code",
   "execution_count": 1,
   "id": "3fb7e670",
   "metadata": {},
   "outputs": [],
   "source": [
    "import os\n",
    "\n",
    "from PIL import Image\n",
    "import torch\n",
    "import torch.nn as nn\n",
    "import torch.nn.functional as F\n",
    "import torchvision.transforms as transforms\n",
    "from torchvision.transforms import ToTensor\n",
    "import torch.optim as optim\n",
    "import matplotlib.pyplot as plt\n",
    "import pickle\n"
   ]
  },
  {
   "cell_type": "code",
   "execution_count": 67,
   "id": "1cf46c7f",
   "metadata": {},
   "outputs": [
    {
     "data": {
      "text/plain": [
       "True"
      ]
     },
     "execution_count": 67,
     "metadata": {},
     "output_type": "execute_result"
    }
   ],
   "source": [
    "torch.cuda.is_available()"
   ]
  },
  {
   "cell_type": "code",
   "execution_count": 68,
   "id": "822ca8d7",
   "metadata": {
    "scrolled": false
   },
   "outputs": [],
   "source": [
    "#!unzip dataset.zip"
   ]
  },
  {
   "cell_type": "markdown",
   "id": "08086659",
   "metadata": {},
   "source": [
    "dataset classification"
   ]
  },
  {
   "cell_type": "code",
   "execution_count": 2,
   "id": "be4b291b",
   "metadata": {},
   "outputs": [],
   "source": [
    "class trainData():\n",
    "    def __init__(self):\n",
    "        self.labels,self.images = self.load_data()\n",
    "    \n",
    "    def load_data(self):\n",
    "        labels={}\n",
    "        images = {}\n",
    "        count = 0\n",
    "        \n",
    "        resize = transforms.Compose([transforms.Resize((256,256))])\n",
    "        main_dir = os.listdir(os.path.join(\"dataset\",\"train\"))\n",
    "        reference = {}\n",
    "        \n",
    "        for i,dir in enumerate(main_dir):\n",
    "            reference[dir]=i\n",
    "            images_list = os.listdir(os.path.join(\"dataset\",\"train\",dir))\n",
    "            local_cnt = 0\n",
    "            \n",
    "            for img in images_list:\n",
    "                if local_cnt<500:\n",
    "                    labels[count] = i\n",
    "                    img_path = os.path.join(\"dataset\",\"train\",dir,img)\n",
    "                    image = Image.open(img_path)\n",
    "                    image = ToTensor()(image)\n",
    "                    images[count] = resize(image)\n",
    "                    count+=1\n",
    "                    local_cnt+=1\n",
    "                else:\n",
    "                    break\n",
    "\n",
    "        print(reference)\n",
    "        return labels,images\n",
    "      \n",
    "    def __len__(self):\n",
    "        return len(self.labels)\n",
    "    \n",
    "\n",
    "    # To return x,y values in each iteration over dataloader as batches.\n",
    "    def __getitem__(self, idx):\n",
    "        return (\n",
    "            self.images[idx],\n",
    "            self.labels[idx],\n",
    "        )"
   ]
  },
  {
   "cell_type": "code",
   "execution_count": 3,
   "id": "827cf7a4",
   "metadata": {},
   "outputs": [
    {
     "name": "stdout",
     "output_type": "stream",
     "text": [
      "{'Cherry___Powdery_mildew': 0, 'Pepper___Bacterial_spot': 1, 'Tomato___healthy': 2, 'Potato___healthy': 3, 'Tomato___Tomato_Yellow_Leaf_Curl_Virus': 4, 'Cherry___healthy': 5, 'Tomato___Leaf_Mold': 6, 'Tomato___Septoria_leaf_spot': 7, 'Tomato___Late_blight': 8, 'Tomato___Tomato_mosaic_virus': 9, 'Tomato___Bacterial_spot': 10, 'Tomato___Target_Spot': 11, 'Pepper___healthy': 12, 'Tomato___Early_blight': 13, 'Potato___Early_blight': 14, 'Tomato___Spider_mites Two-spotted_spider_mite': 15, 'Potato___Late_blight': 16}\n"
     ]
    }
   ],
   "source": [
    "train_data = trainData()"
   ]
  },
  {
   "cell_type": "code",
   "execution_count": 4,
   "id": "e18f0d3f",
   "metadata": {},
   "outputs": [],
   "source": [
    "class validationData(trainData):\n",
    "\n",
    "    def load_data(self):\n",
    "          labels={}\n",
    "          images = {}\n",
    "          count = 0\n",
    "          resize = transforms.Compose([transforms.Resize((256,256))])\n",
    "          main_dir = os.listdir(os.path.join(\"dataset\",\"valid\"))\n",
    "          for i,dir in enumerate(main_dir):\n",
    "              print(i,dir)\n",
    "              images_list = os.listdir(os.path.join(\"dataset\",\"valid\",dir))\n",
    "              local_cnt = 0\n",
    "              for img in images_list:\n",
    "                  if(local_cnt<100):\n",
    "                      labels[count] = i\n",
    "                      img_path = os.path.join(\"dataset\",\"valid\",dir,img)\n",
    "                      image = Image.open(img_path)\n",
    "                      image = ToTensor()(image)\n",
    "                      images[count] = resize(image)\n",
    "                      count+=1\n",
    "                      local_cnt+=1\n",
    "                  else:\n",
    "                      break\n",
    "\n",
    "          return labels,images"
   ]
  },
  {
   "cell_type": "code",
   "execution_count": 5,
   "id": "51a3995a",
   "metadata": {},
   "outputs": [
    {
     "name": "stdout",
     "output_type": "stream",
     "text": [
      "0 Cherry___Powdery_mildew\n",
      "1 Pepper___Bacterial_spot\n",
      "2 Tomato___healthy\n",
      "3 Potato___healthy\n",
      "4 Tomato___Tomato_Yellow_Leaf_Curl_Virus\n",
      "5 Cherry___healthy\n",
      "6 Tomato___Leaf_Mold\n",
      "7 Tomato___Septoria_leaf_spot\n",
      "8 Tomato___Late_blight\n",
      "9 Tomato___Tomato_mosaic_virus\n",
      "10 Tomato___Bacterial_spot\n",
      "11 Tomato___Target_Spot\n",
      "12 Pepper___healthy\n",
      "13 Tomato___Early_blight\n",
      "14 Potato___Early_blight\n",
      "15 Tomato___Spider_mites Two-spotted_spider_mite\n",
      "16 Potato___Late_blight\n"
     ]
    }
   ],
   "source": [
    "valid_data = validationData()"
   ]
  },
  {
   "cell_type": "code",
   "execution_count": 6,
   "id": "cd8879d5",
   "metadata": {},
   "outputs": [],
   "source": [
    "def get_num_correct(preds, labels):\n",
    "    return preds.argmax(dim=1).eq(labels).sum().item()"
   ]
  },
  {
   "cell_type": "markdown",
   "id": "529d0aa4",
   "metadata": {},
   "source": [
    "model"
   ]
  },
  {
   "cell_type": "code",
   "execution_count": 7,
   "id": "b06d7415",
   "metadata": {},
   "outputs": [],
   "source": [
    "class neuralNet(nn.Module):\n",
    "    def __init__(self):\n",
    "        super(neuralNet,self).__init__()\n",
    "\n",
    "        self.conv1= nn.Conv2d(in_channels=3,out_channels=6,kernel_size=5)\n",
    "        self.conv2= nn.Conv2d(in_channels=6,out_channels=12,kernel_size=5)\n",
    "        self.conv3= nn.Conv2d(in_channels=12,out_channels=24,kernel_size=5)\n",
    "        self.conv4= nn.Conv2d(in_channels=24,out_channels=48,kernel_size=5)\n",
    "        \n",
    "        self.fc1 = nn.Linear(in_features=48*12*12,out_features=240)\n",
    "        self.fc2 = nn.Linear(in_features=240,out_features=120)\n",
    "        self.out = nn.Linear(in_features=120,out_features=17)\n",
    "        \n",
    "        \n",
    "    def forward(self,t):\n",
    "        t = t\n",
    "        \n",
    "        t=self.conv1(t)\n",
    "        t=F.relu(t)\n",
    "        t=F.max_pool2d(t,kernel_size = 2, stride = 2)\n",
    "        \n",
    "        \n",
    "        t=self.conv2(t)\n",
    "        t=F.relu(t)\n",
    "        t=F.max_pool2d(t,kernel_size = 2, stride = 2)\n",
    "\n",
    "        t=self.conv3(t)\n",
    "        t=F.relu(t)\n",
    "        t=F.max_pool2d(t,kernel_size = 2, stride = 2)\n",
    "\n",
    "        t=self.conv4(t)\n",
    "        t=F.relu(t)\n",
    "        t=F.max_pool2d(t,kernel_size = 2, stride = 2)\n",
    "        \n",
    "        t=t.reshape(-1,48*12*12)\n",
    "        t=self.fc1(t)\n",
    "        t=F.relu(t)\n",
    "        \n",
    "        \n",
    "        t=self.fc2(t)\n",
    "        t=F.relu(t)\n",
    "        \n",
    "        t=self.out(t)\n",
    "        \n",
    "        \n",
    "        return t"
   ]
  },
  {
   "cell_type": "code",
   "execution_count": 8,
   "id": "d91c4f42",
   "metadata": {},
   "outputs": [],
   "source": [
    "model = neuralNet()"
   ]
  },
  {
   "cell_type": "markdown",
   "id": "de754868",
   "metadata": {},
   "source": [
    "training"
   ]
  },
  {
   "cell_type": "code",
   "execution_count": 9,
   "id": "69717a6c",
   "metadata": {},
   "outputs": [],
   "source": [
    "def train(train_data,valid_data, model):\n",
    "    model.train()\n",
    "\n",
    "    \n",
    "    dataloader = torch.utils.data.DataLoader(train_data, batch_size=64,shuffle=True)\n",
    "    valdataloader = torch.utils.data.DataLoader(valid_data, batch_size=32,shuffle=True)\n",
    "    \n",
    "    criterion = nn.CrossEntropyLoss()\n",
    "    optimizer = optim.Adam(model.parameters(), lr=0.001)\n",
    "    num_of_epochs = 10\n",
    "    epochs = []\n",
    "    losses = []\n",
    "    for epoch in range(num_of_epochs):\n",
    "        cnt = 0\n",
    "        tot_loss = 0\n",
    "        tot_correct = 0\n",
    "        for batch, (x, y) in enumerate(dataloader):\n",
    "            \n",
    "            optimizer.zero_grad()\n",
    "            y_pred = model(x)\n",
    "            \n",
    "            loss = F.cross_entropy(y_pred,y)\n",
    "\n",
    "            loss.backward()\n",
    "            optimizer.step()\n",
    "\n",
    "        for batch, (x, y) in enumerate(valdataloader):\n",
    "            optimizer.zero_grad()\n",
    "            with torch.no_grad():\n",
    "                y_pred = model(x)\n",
    "                loss = F.cross_entropy(y_pred,y)\n",
    "\n",
    "            tot_loss += loss.item()\n",
    "            tot_correct += get_num_correct(y_pred,y)\n",
    "        epochs.append(epoch)\n",
    "        losses.append(tot_loss)\n",
    "        print(\"Epoch\",epoch,\"total_correct\",tot_correct,\"loss:\",tot_loss)\n",
    "        torch.save(model.state_dict(), \"model002_ep\"+str(epoch+1)+\".pth\")\n",
    "        \n",
    "        plt.plot(epochs, losses, color='green', linewidth = 3, marker='o', markerfacecolor='blue', markersize=8) \n",
    "        plt.xlabel('epochs ---->',color='m',fontsize='x-large' ) \n",
    "        plt.ylabel('loss ------>',color='m',fontsize='x-large') \n",
    "        axes = plt.gca()\n",
    "        axes.set_facecolor('c')\n",
    "        axes.tick_params(axis='y', which='both', colors='tomato')\n",
    "        axes.tick_params(axis='x', which='both', colors='#20ff14')\n",
    "        plt.title(\"Val Loss vs Epoch\",color='m',fontsize='x-large')"
   ]
  },
  {
   "cell_type": "code",
   "execution_count": 10,
   "id": "a64f0a8f",
   "metadata": {},
   "outputs": [
    {
     "name": "stdout",
     "output_type": "stream",
     "text": [
      "Epoch 0 total_correct 13 loss: 16.992804765701294\n",
      "Epoch 1 total_correct 24 loss: 16.353777408599854\n",
      "Epoch 2 total_correct 26 loss: 15.921118259429932\n",
      "Epoch 3 total_correct 39 loss: 14.237004518508911\n",
      "Epoch 4 total_correct 43 loss: 13.733189105987549\n",
      "Epoch 5 total_correct 50 loss: 12.62095308303833\n",
      "Epoch 6 total_correct 49 loss: 12.546177625656128\n",
      "Epoch 7 total_correct 59 loss: 11.871824502944946\n",
      "Epoch 8 total_correct 74 loss: 11.168455004692078\n",
      "Epoch 9 total_correct 63 loss: 11.571361184120178\n"
     ]
    },
    {
     "data": {
      "image/png": "[encoded data removed]",
      "text/plain": [
       "<Figure size 432x288 with 1 Axes>"
      ]
     },
     "metadata": {
      "needs_background": "dark"
     },
     "output_type": "display_data"
    }
   ],
   "source": [
    "train(train_data, valid_data, model)"
   ]
  },
  {
   "cell_type": "code",
   "execution_count": null,
   "id": "e8483c69",
   "metadata": {},
   "outputs": [],
   "source": []
  },
  {
   "cell_type": "code",
   "execution_count": 11,
   "id": "0c3d1a2e",
   "metadata": {},
   "outputs": [],
   "source": [
    "# Saving labels to label value as a json\n",
    "main_dir = os.listdir(os.path.join(\"dataset\",\"train\"))\n",
    "reference = {}\n",
    "for i,dir in enumerate(main_dir):\n",
    "    reference[dir]=i\n",
    "with open('labels.json', 'wb') as iw:\n",
    "    pickle.dump(reference, iw)\n"
   ]
  },
  {
   "cell_type": "code",
   "execution_count": 12,
   "id": "c75ebacf",
   "metadata": {},
   "outputs": [],
   "source": [
    "torch.save(model.state_dict(), \"model.pth\")"
   ]
  },
  {
   "cell_type": "code",
   "execution_count": null,
   "id": "5cc3db4b",
   "metadata": {},
   "outputs": [],
   "source": []
  },
  {
   "cell_type": "code",
   "execution_count": 13,
   "id": "2b19ce76",
   "metadata": {},
   "outputs": [],
   "source": [
    "def train(train_data,valid_data, model):\n",
    "    model.train()\n",
    "\n",
    "    \n",
    "    dataloader = torch.utils.data.DataLoader(train_data, batch_size=64,shuffle=True)\n",
    "    valdataloader = torch.utils.data.DataLoader(valid_data, batch_size=32,shuffle=True)\n",
    "    \n",
    "    criterion = nn.CrossEntropyLoss()\n",
    "    optimizer = optim.Adam(model.parameters(), lr=0.001)\n",
    "    num_of_epochs = 15\n",
    "    epochs = []\n",
    "    losses = []\n",
    "    for epoch in range(num_of_epochs):\n",
    "        cnt = 0\n",
    "        tot_loss = 0\n",
    "        tot_correct = 0\n",
    "        for batch, (x, y) in enumerate(dataloader):\n",
    "            \n",
    "            optimizer.zero_grad()\n",
    "            y_pred = model(x)\n",
    "            \n",
    "            loss = F.cross_entropy(y_pred,y)\n",
    "\n",
    "            loss.backward()\n",
    "            optimizer.step()\n",
    "\n",
    "        for batch, (x, y) in enumerate(valdataloader):\n",
    "            optimizer.zero_grad()\n",
    "            with torch.no_grad():\n",
    "                y_pred = model(x)\n",
    "                loss = F.cross_entropy(y_pred,y)\n",
    "\n",
    "            tot_loss += loss.item()\n",
    "            tot_correct += get_num_correct(y_pred,y)\n",
    "        epochs.append(epoch)\n",
    "        losses.append(tot_loss)\n",
    "        print(\"Epoch\",epoch,\"total_correct\",tot_correct,\"loss:\",tot_loss)\n",
    "        torch.save(model.state_dict(), \"model002_ep\"+str(epoch+1)+\".pth\")\n",
    "        \n",
    "        plt.plot(epochs, losses, color='green', linewidth = 3, marker='o', markerfacecolor='blue', markersize=8) \n",
    "        plt.xlabel('epochs ---->',color='m',fontsize='x-large' ) \n",
    "        plt.ylabel('loss ------>',color='m',fontsize='x-large') \n",
    "        axes = plt.gca()\n",
    "        axes.set_facecolor('c')\n",
    "        axes.tick_params(axis='y', which='both', colors='tomato')\n",
    "        axes.tick_params(axis='x', which='both', colors='#20ff14')\n",
    "        plt.title(\"Val Loss vs Epoch\",color='m',fontsize='x-large')"
   ]
  },
  {
   "cell_type": "code",
   "execution_count": 14,
   "id": "905c786f",
   "metadata": {},
   "outputs": [
    {
     "name": "stdout",
     "output_type": "stream",
     "text": [
      "Epoch 0 total_correct 63 loss: 11.477211475372314\n",
      "Epoch 1 total_correct 71 loss: 10.960898637771606\n",
      "Epoch 2 total_correct 70 loss: 10.571221351623535\n",
      "Epoch 3 total_correct 80 loss: 10.391300797462463\n",
      "Epoch 4 total_correct 73 loss: 11.020711064338684\n",
      "Epoch 5 total_correct 78 loss: 10.61013150215149\n",
      "Epoch 6 total_correct 81 loss: 10.333676099777222\n",
      "Epoch 7 total_correct 90 loss: 9.29483687877655\n",
      "Epoch 8 total_correct 85 loss: 9.566183090209961\n",
      "Epoch 9 total_correct 85 loss: 9.257865190505981\n",
      "Epoch 10 total_correct 84 loss: 9.128125011920929\n",
      "Epoch 11 total_correct 90 loss: 9.36246931552887\n",
      "Epoch 12 total_correct 79 loss: 11.660540461540222\n",
      "Epoch 13 total_correct 89 loss: 9.425724625587463\n",
      "Epoch 14 total_correct 83 loss: 12.230554103851318\n"
     ]
    },
    {
     "data": {
      "image/png": "[encoded data removed]",
      "text/plain": [
       "<Figure size 432x288 with 1 Axes>"
      ]
     },
     "metadata": {
      "needs_background": "dark"
     },
     "output_type": "display_data"
    }
   ],
   "source": [
    "train(train_data, valid_data, model)"
   ]
  },
  {
   "cell_type": "code",
   "execution_count": 15,
   "id": "a312e7ec",
   "metadata": {},
   "outputs": [],
   "source": [
    "def train(train_data,valid_data, model):\n",
    "    model.train()\n",
    "\n",
    "    \n",
    "    dataloader = torch.utils.data.DataLoader(train_data, batch_size=64,shuffle=True)\n",
    "    valdataloader = torch.utils.data.DataLoader(valid_data, batch_size=32,shuffle=True)\n",
    "    \n",
    "    criterion = nn.CrossEntropyLoss()\n",
    "    optimizer = optim.Adam(model.parameters(), lr=0.001)\n",
    "    num_of_epochs = 15\n",
    "    epochs = []\n",
    "    losses = []\n",
    "    for epoch in range(num_of_epochs):\n",
    "        cnt = 0\n",
    "        tot_loss = 0\n",
    "        tot_correct = 0\n",
    "        for batch, (x, y) in enumerate(dataloader):\n",
    "            \n",
    "            optimizer.zero_grad()\n",
    "            y_pred = model(x)\n",
    "            \n",
    "            loss = F.cross_entropy(y_pred,y)\n",
    "\n",
    "            loss.backward()\n",
    "            optimizer.step()\n",
    "\n",
    "        for batch, (x, y) in enumerate(valdataloader):\n",
    "            optimizer.zero_grad()\n",
    "            with torch.no_grad():\n",
    "                y_pred = model(x)\n",
    "                loss = F.cross_entropy(y_pred,y)\n",
    "\n",
    "            tot_loss += loss.item()\n",
    "            tot_correct += get_num_correct(y_pred,y)\n",
    "        epochs.append(epoch)\n",
    "        losses.append(tot_loss)\n",
    "        print(\"Epoch\",epoch,\"total_correct\",tot_correct,\"loss:\",tot_loss)\n",
    "        torch.save(model.state_dict(), \"model002_ep\"+str(epoch+1)+\".pth\")\n",
    "        \n",
    "        plt.plot(epochs, losses, color='green', linewidth = 3, marker='o', markerfacecolor='blue', markersize=8) \n",
    "        plt.xlabel('epochs ---->',color='m',fontsize='x-large' ) \n",
    "        plt.ylabel('loss ------>',color='m',fontsize='x-large') \n",
    "        axes = plt.gca()\n",
    "        axes.set_facecolor('c')\n",
    "        axes.tick_params(axis='y', which='both', colors='tomato')\n",
    "        axes.tick_params(axis='x', which='both', colors='#20ff14')\n",
    "        plt.title(\"Val Loss vs Epoch\",color='m',fontsize='x-large')"
   ]
  },
  {
   "cell_type": "code",
   "execution_count": 16,
   "id": "29cad668",
   "metadata": {},
   "outputs": [
    {
     "name": "stdout",
     "output_type": "stream",
     "text": [
      "Epoch 0 total_correct 71 loss: 10.369080305099487\n",
      "Epoch 1 total_correct 90 loss: 9.113889455795288\n",
      "Epoch 2 total_correct 90 loss: 10.534162878990173\n",
      "Epoch 3 total_correct 91 loss: 11.16359031200409\n",
      "Epoch 4 total_correct 95 loss: 9.081087231636047\n",
      "Epoch 5 total_correct 90 loss: 11.488938331604004\n",
      "Epoch 6 total_correct 94 loss: 10.148410439491272\n",
      "Epoch 7 total_correct 101 loss: 11.85626232624054\n",
      "Epoch 8 total_correct 98 loss: 10.47363567352295\n",
      "Epoch 9 total_correct 92 loss: 11.575613975524902\n",
      "Epoch 10 total_correct 93 loss: 12.11383306980133\n",
      "Epoch 11 total_correct 103 loss: 11.208210945129395\n",
      "Epoch 12 total_correct 95 loss: 13.5606187582016\n",
      "Epoch 13 total_correct 95 loss: 11.514507532119751\n",
      "Epoch 14 total_correct 94 loss: 14.354549884796143\n"
     ]
    },
    {
     "data": {
      "image/png": "[encoded data removed]",
      "text/plain": [
       "<Figure size 432x288 with 1 Axes>"
      ]
     },
     "metadata": {
      "needs_background": "dark"
     },
     "output_type": "display_data"
    }
   ],
   "source": [
    "train(train_data, valid_data, model)"
   ]
  },
  {
   "cell_type": "code",
   "execution_count": null,
   "id": "42c232fd",
   "metadata": {},
   "outputs": [],
   "source": []
  },
  {
   "cell_type": "markdown",
   "id": "273447d2",
   "metadata": {},
   "source": [
    "predict"
   ]
  },
  {
   "cell_type": "code",
   "execution_count": 90,
   "id": "3eb0fccd",
   "metadata": {},
   "outputs": [],
   "source": [
    "def predict(img_path):\n",
    "    image = Image.open(img_path)\n",
    "    image = ToTensor()(image)\n",
    "    resize = transforms.Compose([transforms.Resize((256,256))])\n",
    "    y_result = model(resize(image).unsqueeze(0))\n",
    "    result_idx = y_result.argmax(dim=1)\n",
    "    for key,value in reference.items():\n",
    "        if(value==result_idx):\n",
    "            print(key)\n",
    "            break"
   ]
  },
  {
   "cell_type": "code",
   "execution_count": 92,
   "id": "a7bc4604",
   "metadata": {},
   "outputs": [
    {
     "name": "stdout",
     "output_type": "stream",
     "text": [
      "Potato___Early_blight\n"
     ]
    }
   ],
   "source": [
    "predict(\"/home/harshit/Downloads/Potato.jpg\")"
   ]
  },
  {
   "cell_type": "code",
   "execution_count": null,
   "id": "b1ad3429",
   "metadata": {},
   "outputs": [],
   "source": []
  }
 ],
 "metadata": {
  "kernelspec": {
   "display_name": "Python 3 (ipykernel)",
   "language": "python",
   "name": "python3"
  },
  "language_info": {
   "codemirror_mode": {
    "name": "ipython",
    "version": 3
   },
   "file_extension": ".py",
   "mimetype": "text/x-python",
   "name": "python",
   "nbconvert_exporter": "python",
   "pygments_lexer": "ipython3",
   "version": "3.8.12"
  }
 },
 "nbformat": 4,
 "nbformat_minor": 5
}
