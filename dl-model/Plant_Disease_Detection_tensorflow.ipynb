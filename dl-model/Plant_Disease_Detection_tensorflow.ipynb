{
  "cells": [
    {
      "cell_type": "code",
      "source": [
        ""
      ],
      "metadata": {
        "id": "BOda8GI_jPE2"
      },
      "id": "BOda8GI_jPE2",
      "execution_count": null,
      "outputs": []
    },
    {
      "cell_type": "code",
      "execution_count": 1,
      "id": "6b57a909",
      "metadata": {
        "id": "6b57a909"
      },
      "outputs": [],
      "source": [
        "import tensorflow\n",
        "\n",
        "import tensorflow as tf\n",
        "from tensorflow import keras\n",
        "from tensorflow.keras.preprocessing.image import ImageDataGenerator\n",
        "from keras.preprocessing.image import image_dataset_from_directory\n",
        "from tensorflow.keras.layers.experimental.preprocessing import Rescaling\n",
        "\n",
        "import numpy as np"
      ]
    },
    {
      "cell_type": "code",
      "execution_count": 2,
      "id": "0690c68f",
      "metadata": {
        "id": "0690c68f"
      },
      "outputs": [],
      "source": [
        "datagen = ImageDataGenerator(rescale=1/225.0)"
      ]
    },
    {
      "cell_type": "code",
      "execution_count": 3,
      "id": "0f69ce23",
      "metadata": {
        "id": "0f69ce23"
      },
      "outputs": [],
      "source": [
        "img_width=256\n",
        "img_height=256"
      ]
    },
    {
      "cell_type": "code",
      "source": [
        "train_ds = image_dataset_from_directory(directory=\"/content/new plant diseases dataset(augmented)/New Plant Diseases Dataset(Augmented)/train\",image_size=(256, 256))\n",
        "valid_ds = image_dataset_from_directory(directory=\"/content/new plant diseases dataset(augmented)/New Plant Diseases Dataset(Augmented)/valid\",image_size=(256, 256))\n",
        "\n",
        "class_names = train_ds.class_names\n",
        "\n",
        "\n",
        "rescale = Rescaling(scale=1.0/255)\n",
        "train_ds = train_ds.map(lambda image,label:(rescale(image),label))\n",
        "valid_ds  = valid_ds.map(lambda image,label:(rescale(image),label))"
      ],
      "metadata": {
        "colab": {
          "base_uri": "https://localhost:8080/"
        },
        "id": "YGYzzYVEmZlT",
        "outputId": "b3c7b265-d526-4077-ffea-ee2cb3b5f4d6"
      },
      "id": "YGYzzYVEmZlT",
      "execution_count": 4,
      "outputs": [
        {
          "output_type": "stream",
          "name": "stdout",
          "text": [
            "Found 70295 files belonging to 38 classes.\n",
            "Found 17572 files belonging to 38 classes.\n"
          ]
        }
      ]
    },
    {
      "cell_type": "code",
      "execution_count": 6,
      "id": "696ca72d",
      "metadata": {
        "id": "696ca72d"
      },
      "outputs": [],
      "source": [
        "model = keras.Sequential()"
      ]
    },
    {
      "cell_type": "code",
      "execution_count": 7,
      "id": "d2a8a018",
      "metadata": {
        "id": "d2a8a018"
      },
      "outputs": [],
      "source": [
        "model.add(keras.layers.Conv2D(32,(3,3),activation=\"relu\",padding=\"same\",input_shape=(256,256,3)))\n",
        "model.add(keras.layers.Conv2D(32,(3,3),activation=\"relu\",padding=\"same\"))\n",
        "model.add(keras.layers.MaxPooling2D(3,3))\n",
        "\n",
        "model.add(keras.layers.Conv2D(64,(3,3),activation=\"relu\",padding=\"same\"))\n",
        "model.add(keras.layers.Conv2D(64,(3,3),activation=\"relu\",padding=\"same\"))\n",
        "model.add(keras.layers.MaxPooling2D(3,3))\n",
        "\n",
        "model.add(keras.layers.Conv2D(128,(3,3),activation=\"relu\",padding=\"same\"))\n",
        "model.add(keras.layers.Conv2D(128,(3,3),activation=\"relu\",padding=\"same\"))\n",
        "model.add(keras.layers.MaxPooling2D(3,3))\n",
        "\n",
        "model.add(keras.layers.Conv2D(256,(3,3),activation=\"relu\",padding=\"same\"))\n",
        "model.add(keras.layers.Conv2D(256,(3,3),activation=\"relu\",padding=\"same\"))\n",
        "\n",
        "model.add(keras.layers.Conv2D(512,(5,5),activation=\"relu\",padding=\"same\"))\n",
        "model.add(keras.layers.Conv2D(512,(5,5),activation=\"relu\",padding=\"same\"))\n",
        "\n",
        "model.add(keras.layers.Flatten())\n",
        "\n",
        "model.add(keras.layers.Dense(1568,activation=\"relu\"))\n",
        "model.add(keras.layers.Dropout(0.5))\n",
        "\n",
        "model.add(keras.layers.Dense(38,activation=\"softmax\"))"
      ]
    },
    {
      "cell_type": "code",
      "execution_count": 8,
      "id": "5196297c",
      "metadata": {
        "colab": {
          "base_uri": "https://localhost:8080/"
        },
        "id": "5196297c",
        "outputId": "1e8a6d91-a540-44b1-bf20-63cea4321a1f"
      },
      "outputs": [
        {
          "output_type": "stream",
          "name": "stdout",
          "text": [
            "Model: \"sequential\"\n",
            "_________________________________________________________________\n",
            " Layer (type)                Output Shape              Param #   \n",
            "=================================================================\n",
            " conv2d (Conv2D)             (None, 256, 256, 32)      896       \n",
            "                                                                 \n",
            " conv2d_1 (Conv2D)           (None, 256, 256, 32)      9248      \n",
            "                                                                 \n",
            " max_pooling2d (MaxPooling2D  (None, 85, 85, 32)       0         \n",
            " )                                                               \n",
            "                                                                 \n",
            " conv2d_2 (Conv2D)           (None, 85, 85, 64)        18496     \n",
            "                                                                 \n",
            " conv2d_3 (Conv2D)           (None, 85, 85, 64)        36928     \n",
            "                                                                 \n",
            " max_pooling2d_1 (MaxPooling  (None, 28, 28, 64)       0         \n",
            " 2D)                                                             \n",
            "                                                                 \n",
            " conv2d_4 (Conv2D)           (None, 28, 28, 128)       73856     \n",
            "                                                                 \n",
            " conv2d_5 (Conv2D)           (None, 28, 28, 128)       147584    \n",
            "                                                                 \n",
            " max_pooling2d_2 (MaxPooling  (None, 9, 9, 128)        0         \n",
            " 2D)                                                             \n",
            "                                                                 \n",
            " conv2d_6 (Conv2D)           (None, 9, 9, 256)         295168    \n",
            "                                                                 \n",
            " conv2d_7 (Conv2D)           (None, 9, 9, 256)         590080    \n",
            "                                                                 \n",
            " conv2d_8 (Conv2D)           (None, 9, 9, 512)         3277312   \n",
            "                                                                 \n",
            " conv2d_9 (Conv2D)           (None, 9, 9, 512)         6554112   \n",
            "                                                                 \n",
            " flatten (Flatten)           (None, 41472)             0         \n",
            "                                                                 \n",
            " dense (Dense)               (None, 1568)              65029664  \n",
            "                                                                 \n",
            " dropout (Dropout)           (None, 1568)              0         \n",
            "                                                                 \n",
            " dense_1 (Dense)             (None, 38)                59622     \n",
            "                                                                 \n",
            "=================================================================\n",
            "Total params: 76,092,966\n",
            "Trainable params: 76,092,966\n",
            "Non-trainable params: 0\n",
            "_________________________________________________________________\n"
          ]
        }
      ],
      "source": [
        "model.summary()"
      ]
    },
    {
      "cell_type": "code",
      "source": [
        "model.compile(optimizer=keras.optimizers.Adam(learning_rate=0.0001),loss=\"sparse_categorical_crossentropy\",metrics=['accuracy'])"
      ],
      "metadata": {
        "id": "rSPZJqLpnbBa"
      },
      "id": "rSPZJqLpnbBa",
      "execution_count": 9,
      "outputs": []
    },
    {
      "cell_type": "code",
      "execution_count": 10,
      "id": "13bc7856",
      "metadata": {
        "colab": {
          "base_uri": "https://localhost:8080/"
        },
        "id": "13bc7856",
        "outputId": "02dc9692-0c73-4cb1-b9d8-a875b6e3f468"
      },
      "outputs": [
        {
          "output_type": "stream",
          "name": "stdout",
          "text": [
            "Epoch 1/10\n",
            "2197/2197 [==============================] - 721s 325ms/step - loss: 1.4654 - accuracy: 0.5691 - val_loss: 0.5216 - val_accuracy: 0.8309\n",
            "Epoch 2/10\n",
            "2197/2197 [==============================] - 710s 323ms/step - loss: 0.4265 - accuracy: 0.8628 - val_loss: 0.2858 - val_accuracy: 0.9037\n",
            "Epoch 3/10\n",
            "2197/2197 [==============================] - 710s 323ms/step - loss: 0.2503 - accuracy: 0.9179 - val_loss: 0.2050 - val_accuracy: 0.9307\n",
            "Epoch 4/10\n",
            "2197/2197 [==============================] - 709s 323ms/step - loss: 0.1745 - accuracy: 0.9423 - val_loss: 0.1558 - val_accuracy: 0.9484\n",
            "Epoch 5/10\n",
            "2197/2197 [==============================] - 710s 323ms/step - loss: 0.1301 - accuracy: 0.9564 - val_loss: 0.1585 - val_accuracy: 0.9494\n",
            "Epoch 6/10\n",
            "2197/2197 [==============================] - 709s 323ms/step - loss: 0.0991 - accuracy: 0.9669 - val_loss: 0.1446 - val_accuracy: 0.9562\n",
            "Epoch 7/10\n",
            "2197/2197 [==============================] - 710s 323ms/step - loss: 0.0830 - accuracy: 0.9729 - val_loss: 0.1034 - val_accuracy: 0.9672\n",
            "Epoch 8/10\n",
            "2197/2197 [==============================] - 710s 323ms/step - loss: 0.0664 - accuracy: 0.9781 - val_loss: 0.1698 - val_accuracy: 0.9516\n",
            "Epoch 9/10\n",
            "2197/2197 [==============================] - 710s 323ms/step - loss: 0.0593 - accuracy: 0.9802 - val_loss: 0.1331 - val_accuracy: 0.9618\n",
            "Epoch 10/10\n",
            "2197/2197 [==============================] - 709s 323ms/step - loss: 0.0512 - accuracy: 0.9836 - val_loss: 0.1857 - val_accuracy: 0.9531\n"
          ]
        }
      ],
      "source": [
        "history = model.fit(train_ds, validation_data = valid_ds,epochs = 10)"
      ]
    },
    {
      "cell_type": "code",
      "execution_count": 11,
      "id": "3d6a2881",
      "metadata": {
        "id": "3d6a2881"
      },
      "outputs": [],
      "source": [
        "model.save('model.h5')"
      ]
    },
    {
      "cell_type": "code",
      "execution_count": 12,
      "id": "0f7dd454",
      "metadata": {
        "colab": {
          "base_uri": "https://localhost:8080/"
        },
        "id": "0f7dd454",
        "outputId": "fb049e39-4b4f-4ba0-a6ba-673e327bf175"
      },
      "outputs": [
        {
          "output_type": "stream",
          "name": "stdout",
          "text": [
            "550/550 [==============================] - 56s 101ms/step - loss: 0.1857 - accuracy: 0.9531\n"
          ]
        }
      ],
      "source": [
        "result = model.evaluate(valid_ds)"
      ]
    },
    {
      "cell_type": "code",
      "execution_count": 13,
      "id": "99c84b2d",
      "metadata": {
        "colab": {
          "base_uri": "https://localhost:8080/",
          "height": 428
        },
        "id": "99c84b2d",
        "outputId": "bdd9d0cc-83ef-42d9-bbff-7887fbc06b5f"
      },
      "outputs": [
        {
          "output_type": "display_data",
          "data": {
            "image/png": "[encoded data removed]",
            "text/plain": [
              "<Figure size 720x504 with 1 Axes>"
            ]
          },
          "metadata": {
            "needs_background": "light"
          }
        }
      ],
      "source": [
        "import pandas as pd\n",
        "pd.DataFrame(history.history).plot(figsize=(10, 7));"
      ]
    },
    {
      "cell_type": "code",
      "execution_count": null,
      "id": "3d81a3f4",
      "metadata": {
        "id": "3d81a3f4"
      },
      "outputs": [],
      "source": [
        ""
      ]
    },
    {
      "cell_type": "code",
      "source": [
        ""
      ],
      "metadata": {
        "id": "Z9cyiRKa3Q4O"
      },
      "id": "Z9cyiRKa3Q4O",
      "execution_count": null,
      "outputs": []
    },
    {
      "cell_type": "code",
      "execution_count": 89,
      "id": "cbb2998e",
      "metadata": {
        "colab": {
          "base_uri": "https://localhost:8080/"
        },
        "id": "cbb2998e",
        "outputId": "18e9c885-97d8-4dcb-d4e3-3cafc740afec"
      },
      "outputs": [
        {
          "output_type": "execute_result",
          "data": {
            "text/plain": [
              "['Apple___Apple_scab',\n",
              " 'Apple___Black_rot',\n",
              " 'Apple___Cedar_apple_rust',\n",
              " 'Apple___healthy',\n",
              " 'Blueberry___healthy',\n",
              " 'Cherry_(including_sour)___Powdery_mildew',\n",
              " 'Cherry_(including_sour)___healthy',\n",
              " 'Corn_(maize)___Cercospora_leaf_spot Gray_leaf_spot',\n",
              " 'Corn_(maize)___Common_rust_',\n",
              " 'Corn_(maize)___Northern_Leaf_Blight',\n",
              " 'Corn_(maize)___healthy',\n",
              " 'Grape___Black_rot',\n",
              " 'Grape___Esca_(Black_Measles)',\n",
              " 'Grape___Leaf_blight_(Isariopsis_Leaf_Spot)',\n",
              " 'Grape___healthy',\n",
              " 'Orange___Haunglongbing_(Citrus_greening)',\n",
              " 'Peach___Bacterial_spot',\n",
              " 'Peach___healthy',\n",
              " 'Pepper,_bell___Bacterial_spot',\n",
              " 'Pepper,_bell___healthy',\n",
              " 'Potato___Early_blight',\n",
              " 'Potato___Late_blight',\n",
              " 'Potato___healthy',\n",
              " 'Raspberry___healthy',\n",
              " 'Soybean___healthy',\n",
              " 'Squash___Powdery_mildew',\n",
              " 'Strawberry___Leaf_scorch',\n",
              " 'Strawberry___healthy',\n",
              " 'Tomato___Bacterial_spot',\n",
              " 'Tomato___Early_blight',\n",
              " 'Tomato___Late_blight',\n",
              " 'Tomato___Leaf_Mold',\n",
              " 'Tomato___Septoria_leaf_spot',\n",
              " 'Tomato___Spider_mites Two-spotted_spider_mite',\n",
              " 'Tomato___Target_Spot',\n",
              " 'Tomato___Tomato_Yellow_Leaf_Curl_Virus',\n",
              " 'Tomato___Tomato_mosaic_virus',\n",
              " 'Tomato___healthy']"
            ]
          },
          "metadata": {},
          "execution_count": 89
        }
      ],
      "source": [
        "class_names"
      ]
    },
    {
      "cell_type": "code",
      "source": [
        ""
      ],
      "metadata": {
        "id": "7XuOWAi470WL"
      },
      "id": "7XuOWAi470WL",
      "execution_count": null,
      "outputs": []
    },
    {
      "cell_type": "code",
      "source": [
        "class_names = ['Apple___Apple_scab',\n",
        " 'Apple___Black_rot',\n",
        " 'Apple___Cedar_apple_rust',\n",
        " 'Apple___healthy',\n",
        " 'Blueberry___healthy',\n",
        " 'Cherry_(including_sour)___Powdery_mildew',\n",
        " 'Cherry_(including_sour)___healthy',\n",
        " 'Corn_(maize)___Cercospora_leaf_spot Gray_leaf_spot',\n",
        " 'Corn_(maize)___Common_rust_',\n",
        " 'Corn_(maize)___Northern_Leaf_Blight',\n",
        " 'Corn_(maize)___healthy',\n",
        " 'Grape___Black_rot',\n",
        " 'Grape___Esca_(Black_Measles)',\n",
        " 'Grape___Leaf_blight_(Isariopsis_Leaf_Spot)',\n",
        " 'Grape___healthy',\n",
        " 'Orange___Haunglongbing_(Citrus_greening)',\n",
        " 'Peach___Bacterial_spot',\n",
        " 'Peach___healthy',\n",
        " 'Pepper,_bell___Bacterial_spot',\n",
        " 'Pepper,_bell___healthy',\n",
        " 'Potato___Early_blight',\n",
        " 'Potato___Late_blight',\n",
        " 'Potato___healthy',\n",
        " 'Raspberry___healthy',\n",
        " 'Soybean___healthy',\n",
        " 'Squash___Powdery_mildew',\n",
        " 'Strawberry___Leaf_scorch',\n",
        " 'Strawberry___healthy',\n",
        " 'Tomato___Bacterial_spot',\n",
        " 'Tomato___Early_blight',\n",
        " 'Tomato___Late_blight',\n",
        " 'Tomato___Leaf_Mold',\n",
        " 'Tomato___Septoria_leaf_spot',\n",
        " 'Tomato___Spider_mites Two-spotted_spider_mite',\n",
        " 'Tomato___Target_Spot',\n",
        " 'Tomato___Tomato_Yellow_Leaf_Curl_Virus',\n",
        " 'Tomato___Tomato_mosaic_virus',\n",
        " 'Tomato___healthy']"
      ],
      "metadata": {
        "id": "UPhy-jcB70Yw"
      },
      "id": "UPhy-jcB70Yw",
      "execution_count": 14,
      "outputs": []
    },
    {
      "cell_type": "code",
      "execution_count": 16,
      "id": "c9d24a96",
      "metadata": {
        "id": "c9d24a96"
      },
      "outputs": [],
      "source": [
        "from tensorflow.keras.models import load_model\n",
        "model = load_model('model.h5')"
      ]
    },
    {
      "cell_type": "code",
      "execution_count": 17,
      "id": "95ceeeeb",
      "metadata": {
        "colab": {
          "base_uri": "https://localhost:8080/"
        },
        "id": "95ceeeeb",
        "outputId": "bf21d6ef-495a-4336-d33d-f59e00dcaa87"
      },
      "outputs": [
        {
          "output_type": "stream",
          "name": "stdout",
          "text": [
            "Apple___Cedar_apple_rust 100.0\n"
          ]
        }
      ],
      "source": [
        "from tensorflow.keras.preprocessing import image\n",
        "\n",
        "\n",
        "path = '/content/dee4cbf1-9bdd-451a-b1bb-21756fd981e9___FREC_C.Rust 3727_180deg.JPG'\n",
        "\n",
        "img = image.load_img(path, target_size=(256,256))\n",
        "x = image.img_to_array(img)\n",
        "x = np.expand_dims(x, axis=0)\n",
        "pred = model.predict(x)\n",
        "\n",
        "# print(\"prediction\", pred)\n",
        "\n",
        "\n",
        "d = pred.flatten()\n",
        "j = d.max()\n",
        "for index,item in enumerate(d):\n",
        "    if item == j:\n",
        "        class_name = class_names[index]\n",
        "\n",
        "confidence = round(100 * j, 3)\n",
        "\n",
        "print(class_name, confidence )  "
      ]
    },
    {
      "cell_type": "code",
      "execution_count": null,
      "id": "3f11428d",
      "metadata": {
        "id": "3f11428d"
      },
      "outputs": [],
      "source": [
        ""
      ]
    }
  ],
  "metadata": {
    "kernelspec": {
      "display_name": "Python 3 (ipykernel)",
      "language": "python",
      "name": "python3"
    },
    "language_info": {
      "codemirror_mode": {
        "name": "ipython",
        "version": 3
      },
      "file_extension": ".py",
      "mimetype": "text/x-python",
      "name": "python",
      "nbconvert_exporter": "python",
      "pygments_lexer": "ipython3",
      "version": "3.8.12"
    },
    "colab": {
      "name": "Plant_Disease_Detection_tensorflow.ipynb",
      "provenance": [],
      "collapsed_sections": []
    },
    "accelerator": "GPU"
  },
  "nbformat": 4,
  "nbformat_minor": 5
}