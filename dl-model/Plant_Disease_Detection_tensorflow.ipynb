{
 "cells": [
  {
   "cell_type": "markdown",
   "id": "ff41698a",
   "metadata": {},
   "source": [
    "Plant Disease Detection"
   ]
  },
  {
   "cell_type": "markdown",
   "id": "a9d1d967",
   "metadata": {},
   "source": [
    "github repo: https://github.com/SkyDocs/Plant-Disease-Detection"
   ]
  },
  {
   "cell_type": "code",
   "execution_count": 1,
   "id": "6b57a909",
   "metadata": {
    "id": "6b57a909"
   },
   "outputs": [],
   "source": [
    "import tensorflow\n",
    "\n",
    "import tensorflow as tf\n",
    "from tensorflow import keras\n",
    "from tensorflow.keras.preprocessing.image import ImageDataGenerator\n",
    "from keras.preprocessing.image import image_dataset_from_directory\n",
    "from tensorflow.keras.layers.experimental.preprocessing import Rescaling\n",
    "\n",
    "import numpy as np"
   ]
  },
  {
   "cell_type": "code",
   "execution_count": 2,
   "id": "YGYzzYVEmZlT",
   "metadata": {
    "colab": {
     "base_uri": "https://localhost:8080/"
    },
    "id": "YGYzzYVEmZlT",
    "outputId": "937e9c36-b714-4b3a-8499-9028f2be5fe5"
   },
   "outputs": [
    {
     "name": "stdout",
     "output_type": "stream",
     "text": [
      "Found 33123 files belonging to 18 classes.\n",
      "Found 8280 files belonging to 18 classes.\n"
     ]
    }
   ],
   "source": [
    "train_ds = image_dataset_from_directory(directory=\"/content/New Plant Diseases Dataset(Augmented)/New Plant Diseases Dataset(Augmented)/train\",image_size=(256, 256))\n",
    "valid_ds = image_dataset_from_directory(directory=\"/content/New Plant Diseases Dataset(Augmented)/New Plant Diseases Dataset(Augmented)/valid\",image_size=(256, 256))\n",
    "\n",
    "class_names = train_ds.class_names\n",
    "\n",
    "\n",
    "rescale = Rescaling(scale=1.0/255)\n",
    "train_ds = train_ds.map(lambda image,label:(rescale(image),label))\n",
    "valid_ds  = valid_ds.map(lambda image,label:(rescale(image),label))"
   ]
  },
  {
   "cell_type": "code",
   "execution_count": 3,
   "id": "696ca72d",
   "metadata": {
    "id": "696ca72d"
   },
   "outputs": [],
   "source": [
    "model = keras.Sequential()"
   ]
  },
  {
   "cell_type": "code",
   "execution_count": 4,
   "id": "d2a8a018",
   "metadata": {
    "id": "d2a8a018"
   },
   "outputs": [],
   "source": [
    "model.add(keras.layers.Conv2D(32,(3,3),activation=\"relu\",padding=\"same\",input_shape=(256,256,3)))\n",
    "model.add(keras.layers.Conv2D(32,(3,3),activation=\"relu\",padding=\"same\"))\n",
    "model.add(keras.layers.MaxPooling2D(3,3))\n",
    "\n",
    "model.add(keras.layers.Conv2D(64,(3,3),activation=\"relu\",padding=\"same\"))\n",
    "model.add(keras.layers.Conv2D(64,(3,3),activation=\"relu\",padding=\"same\"))\n",
    "model.add(keras.layers.MaxPooling2D(3,3))\n",
    "\n",
    "model.add(keras.layers.Conv2D(128,(3,3),activation=\"relu\",padding=\"same\"))\n",
    "model.add(keras.layers.Conv2D(128,(3,3),activation=\"relu\",padding=\"same\"))\n",
    "model.add(keras.layers.MaxPooling2D(3,3))\n",
    "\n",
    "model.add(keras.layers.Conv2D(256,(3,3),activation=\"relu\",padding=\"same\"))\n",
    "model.add(keras.layers.Conv2D(256,(3,3),activation=\"relu\",padding=\"same\"))\n",
    "\n",
    "model.add(keras.layers.Conv2D(512,(5,5),activation=\"relu\",padding=\"same\"))\n",
    "model.add(keras.layers.Conv2D(512,(5,5),activation=\"relu\",padding=\"same\"))\n",
    "\n",
    "model.add(keras.layers.Flatten())\n",
    "\n",
    "model.add(keras.layers.Dense(1568,activation=\"relu\"))\n",
    "model.add(keras.layers.Dropout(0.5))\n",
    "\n",
    "model.add(keras.layers.Dense(18,activation=\"softmax\"))"
   ]
  },
  {
   "cell_type": "code",
   "execution_count": 5,
   "id": "5196297c",
   "metadata": {
    "colab": {
     "base_uri": "https://localhost:8080/"
    },
    "id": "5196297c",
    "outputId": "51b6694b-fa48-4cf0-8fce-7120839c2e56"
   },
   "outputs": [
    {
     "name": "stdout",
     "output_type": "stream",
     "text": [
      "Model: \"sequential\"\n",
      "_________________________________________________________________\n",
      " Layer (type)                Output Shape              Param #   \n",
      "=================================================================\n",
      " conv2d (Conv2D)             (None, 256, 256, 32)      896       \n",
      "                                                                 \n",
      " conv2d_1 (Conv2D)           (None, 256, 256, 32)      9248      \n",
      "                                                                 \n",
      " max_pooling2d (MaxPooling2D  (None, 85, 85, 32)       0         \n",
      " )                                                               \n",
      "                                                                 \n",
      " conv2d_2 (Conv2D)           (None, 85, 85, 64)        18496     \n",
      "                                                                 \n",
      " conv2d_3 (Conv2D)           (None, 85, 85, 64)        36928     \n",
      "                                                                 \n",
      " max_pooling2d_1 (MaxPooling  (None, 28, 28, 64)       0         \n",
      " 2D)                                                             \n",
      "                                                                 \n",
      " conv2d_4 (Conv2D)           (None, 28, 28, 128)       73856     \n",
      "                                                                 \n",
      " conv2d_5 (Conv2D)           (None, 28, 28, 128)       147584    \n",
      "                                                                 \n",
      " max_pooling2d_2 (MaxPooling  (None, 9, 9, 128)        0         \n",
      " 2D)                                                             \n",
      "                                                                 \n",
      " conv2d_6 (Conv2D)           (None, 9, 9, 256)         295168    \n",
      "                                                                 \n",
      " conv2d_7 (Conv2D)           (None, 9, 9, 256)         590080    \n",
      "                                                                 \n",
      " conv2d_8 (Conv2D)           (None, 9, 9, 512)         3277312   \n",
      "                                                                 \n",
      " conv2d_9 (Conv2D)           (None, 9, 9, 512)         6554112   \n",
      "                                                                 \n",
      " flatten (Flatten)           (None, 41472)             0         \n",
      "                                                                 \n",
      " dense (Dense)               (None, 1568)              65029664  \n",
      "                                                                 \n",
      " dropout (Dropout)           (None, 1568)              0         \n",
      "                                                                 \n",
      " dense_1 (Dense)             (None, 18)                28242     \n",
      "                                                                 \n",
      "=================================================================\n",
      "Total params: 76,061,586\n",
      "Trainable params: 76,061,586\n",
      "Non-trainable params: 0\n",
      "_________________________________________________________________\n"
     ]
    }
   ],
   "source": [
    "model.summary()"
   ]
  },
  {
   "cell_type": "code",
   "execution_count": 6,
   "id": "rSPZJqLpnbBa",
   "metadata": {
    "id": "rSPZJqLpnbBa"
   },
   "outputs": [],
   "source": [
    "model.compile(optimizer=keras.optimizers.Adam(learning_rate=0.0001),loss=\"sparse_categorical_crossentropy\",metrics=['accuracy'])"
   ]
  },
  {
   "cell_type": "code",
   "execution_count": 7,
   "id": "13bc7856",
   "metadata": {
    "colab": {
     "base_uri": "https://localhost:8080/"
    },
    "id": "13bc7856",
    "outputId": "b9fda0c7-4167-4bc3-99ad-f250276b7b99"
   },
   "outputs": [
    {
     "name": "stdout",
     "output_type": "stream",
     "text": [
      "Epoch 1/10\n",
      "1036/1036 [==============================] - 359s 341ms/step - loss: 1.3918 - accuracy: 0.5442 - val_loss: 0.4261 - val_accuracy: 0.8607\n",
      "Epoch 2/10\n",
      "1036/1036 [==============================] - 351s 338ms/step - loss: 0.3338 - accuracy: 0.8906 - val_loss: 0.1796 - val_accuracy: 0.9405\n",
      "Epoch 3/10\n",
      "1036/1036 [==============================] - 351s 338ms/step - loss: 0.1956 - accuracy: 0.9374 - val_loss: 0.1458 - val_accuracy: 0.9533\n",
      "Epoch 4/10\n",
      "1036/1036 [==============================] - 363s 350ms/step - loss: 0.1392 - accuracy: 0.9531 - val_loss: 0.1176 - val_accuracy: 0.9632\n",
      "Epoch 5/10\n",
      "1036/1036 [==============================] - 351s 338ms/step - loss: 0.0974 - accuracy: 0.9681 - val_loss: 0.1133 - val_accuracy: 0.9622\n",
      "Epoch 6/10\n",
      "1036/1036 [==============================] - 350s 338ms/step - loss: 0.0836 - accuracy: 0.9726 - val_loss: 0.1020 - val_accuracy: 0.9671\n",
      "Epoch 7/10\n",
      "1036/1036 [==============================] - 350s 338ms/step - loss: 0.0643 - accuracy: 0.9793 - val_loss: 0.0778 - val_accuracy: 0.9763\n",
      "Epoch 8/10\n",
      "1036/1036 [==============================] - 350s 337ms/step - loss: 0.0572 - accuracy: 0.9813 - val_loss: 0.0614 - val_accuracy: 0.9808\n",
      "Epoch 9/10\n",
      "1036/1036 [==============================] - 350s 338ms/step - loss: 0.0483 - accuracy: 0.9843 - val_loss: 0.0778 - val_accuracy: 0.9783\n",
      "Epoch 10/10\n",
      "1036/1036 [==============================] - 350s 338ms/step - loss: 0.0416 - accuracy: 0.9866 - val_loss: 0.0871 - val_accuracy: 0.9749\n"
     ]
    }
   ],
   "source": [
    "history = model.fit(train_ds, validation_data = valid_ds,epochs = 10, batch_size=1)"
   ]
  },
  {
   "cell_type": "code",
   "execution_count": 8,
   "id": "3d6a2881",
   "metadata": {
    "id": "3d6a2881"
   },
   "outputs": [],
   "source": [
    "model.save('model04.h5')"
   ]
  },
  {
   "cell_type": "code",
   "execution_count": 9,
   "id": "0f7dd454",
   "metadata": {
    "colab": {
     "base_uri": "https://localhost:8080/"
    },
    "id": "0f7dd454",
    "outputId": "a2fbde31-8f74-4a8d-dd71-0d1cf45ded26"
   },
   "outputs": [
    {
     "name": "stdout",
     "output_type": "stream",
     "text": [
      "259/259 [==============================] - 31s 118ms/step - loss: 0.0871 - accuracy: 0.9749\n"
     ]
    }
   ],
   "source": [
    "result = model.evaluate(valid_ds)"
   ]
  },
  {
   "cell_type": "code",
   "execution_count": 10,
   "id": "99c84b2d",
   "metadata": {
    "colab": {
     "base_uri": "https://localhost:8080/",
     "height": 428
    },
    "id": "99c84b2d",
    "outputId": "e9b0f779-7027-413e-e837-234f2dbb9b8b"
   },
   "outputs": [
    {
     "data": {
      "image/png": "[encoded data removed]",
      "text/plain": [
       "<Figure size 720x504 with 1 Axes>"
      ]
     },
     "metadata": {
      "needs_background": "light"
     },
     "output_type": "display_data"
    }
   ],
   "source": [
    "import pandas as pd\n",
    "pd.DataFrame(history.history).plot(figsize=(10, 7));"
   ]
  },
  {
   "cell_type": "code",
   "execution_count": null,
   "id": "Z9cyiRKa3Q4O",
   "metadata": {
    "id": "Z9cyiRKa3Q4O"
   },
   "outputs": [],
   "source": []
  },
  {
   "cell_type": "code",
   "execution_count": 11,
   "id": "cbb2998e",
   "metadata": {
    "colab": {
     "base_uri": "https://localhost:8080/"
    },
    "id": "cbb2998e",
    "outputId": "7effce7c-cd83-4183-9c1e-ad436dd5e638"
   },
   "outputs": [
    {
     "data": {
      "text/plain": [
       "['Apple___Cedar_apple_rust',\n",
       " 'Apple___healthy',\n",
       " 'Cherry_(including_sour)___Powdery_mildew',\n",
       " 'Cherry_(including_sour)___healthy',\n",
       " 'Corn_(maize)___Northern_Leaf_Blight',\n",
       " 'Corn_(maize)___healthy',\n",
       " 'Grape___Black_rot',\n",
       " 'Grape___healthy',\n",
       " 'Peach___Bacterial_spot',\n",
       " 'Peach___healthy',\n",
       " 'Pepper,_bell___Bacterial_spot',\n",
       " 'Pepper,_bell___healthy',\n",
       " 'Potato___Late_blight',\n",
       " 'Potato___healthy',\n",
       " 'Strawberry___Leaf_scorch',\n",
       " 'Strawberry___healthy',\n",
       " 'Tomato___Septoria_leaf_spot',\n",
       " 'Tomato___healthy']"
      ]
     },
     "execution_count": 11,
     "metadata": {},
     "output_type": "execute_result"
    }
   ],
   "source": [
    "class_names"
   ]
  },
  {
   "cell_type": "code",
   "execution_count": null,
   "id": "Uj6PYmKRJh7c",
   "metadata": {
    "id": "Uj6PYmKRJh7c"
   },
   "outputs": [],
   "source": []
  }
 ],
 "metadata": {
  "accelerator": "GPU",
  "colab": {
   "collapsed_sections": [],
   "name": "Plant_Disease_Detection_tensorflow.ipynb",
   "provenance": []
  },
  "kernelspec": {
   "display_name": "Python 3 (ipykernel)",
   "language": "python",
   "name": "python3"
  },
  "language_info": {
   "codemirror_mode": {
    "name": "ipython",
    "version": 3
   },
   "file_extension": ".py",
   "mimetype": "text/x-python",
   "name": "python",
   "nbconvert_exporter": "python",
   "pygments_lexer": "ipython3",
   "version": "3.9.7"
  }
 },
 "nbformat": 4,
 "nbformat_minor": 5
}
